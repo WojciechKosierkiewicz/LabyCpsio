{
 "cells": [
  {
   "cell_type": "code",
   "execution_count": null,
   "metadata": {},
   "outputs": [],
   "source": [
    "previous = \"a\"\n",
    "next = \"b\"\n",
    "temp = \"\" \n",
    "for i in range(1,101):\n",
    "    if(i ==10):\n",
    "        print(next)\n",
    "    temp = next\n",
    "    next = previous + next\n",
    "    previous = temp\n",
    "\n",
    "\n"
   ]
  }
 ],
 "metadata": {
  "kernelspec": {
   "display_name": ".venv",
   "language": "python",
   "name": "python3"
  },
  "language_info": {
   "codemirror_mode": {
    "name": "ipython",
    "version": 3
   },
   "file_extension": ".py",
   "mimetype": "text/x-python",
   "name": "python",
   "nbconvert_exporter": "python",
   "pygments_lexer": "ipython3",
   "version": "3.13.2"
  }
 },
 "nbformat": 4,
 "nbformat_minor": 2
}
